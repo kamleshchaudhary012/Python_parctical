{
 "cells": [
  {
   "cell_type": "code",
   "execution_count": null,
   "id": "bd131b97-a12b-43aa-8c20-fd717021a35f",
   "metadata": {},
   "outputs": [],
   "source": [
    "#Find the sum of the n natural number... \n",
    "\n",
    "\n",
    "# Take user input\n",
    "a = int(input(\"Enter the number\"))\n",
    "\n",
    "# Convert the input to an integer\n",
    "n = int(a)\n",
    "\n",
    "# Calculate the sum of natural numbers from 1 to n using the formula\n",
    "sum = n * (n + 1) / 2\n",
    "\n",
    "# Print the sum of natural numbers\n",
    "print(\"Sum of natural numbers is\", sum)\n",
    "\n"
   ]
  },
  {
   "cell_type": "code",
   "execution_count": null,
   "id": "0065f9d7-237b-4380-8240-cfeb20fa06bc",
   "metadata": {},
   "outputs": [],
   "source": []
  },
  {
   "cell_type": "code",
   "execution_count": null,
   "id": "913a8970-73b6-4756-9917-4832470b2714",
   "metadata": {},
   "outputs": [],
   "source": []
  }
 ],
 "metadata": {
  "kernelspec": {
   "display_name": "Python 3 (ipykernel)",
   "language": "python",
   "name": "python3"
  },
  "language_info": {
   "codemirror_mode": {
    "name": "ipython",
    "version": 3
   },
   "file_extension": ".py",
   "mimetype": "text/x-python",
   "name": "python",
   "nbconvert_exporter": "python",
   "pygments_lexer": "ipython3",
   "version": "3.11.4"
  }
 },
 "nbformat": 4,
 "nbformat_minor": 5
}
